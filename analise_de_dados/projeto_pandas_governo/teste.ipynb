{
 "cells": [
  {
   "cell_type": "code",
   "execution_count": 54,
   "metadata": {},
   "outputs": [],
   "source": [
    "import pandas as pd \n",
    "dados_viagem = \"/home/joao/Estudos_py_ml/analise_de_dados/projeto_pandas_governo/2023_Viagem.csv\"\n",
    "\n",
    "df_viagens = pd.read_csv(dados_viagem, encoding=\"Windows-1252\", sep=\";\", decimal=\",\")\n",
    "pd.set_option('display.max_columns', None)\n",
    "\n"
   ]
  },
  {
   "cell_type": "code",
   "execution_count": 55,
   "metadata": {},
   "outputs": [
    {
     "data": {
      "text/plain": [
       "0         Ministério da Educação\n",
       "1         Ministério da Educação\n",
       "2           Ministério da Defesa\n",
       "3         Ministério da Educação\n",
       "4           Ministério da Defesa\n",
       "                   ...          \n",
       "826984            Sem informação\n",
       "826985            Sem informação\n",
       "826986            Sem informação\n",
       "826987            Sem informação\n",
       "826988            Sem informação\n",
       "Name: Nome do órgão superior, Length: 826989, dtype: object"
      ]
     },
     "execution_count": 55,
     "metadata": {},
     "output_type": "execute_result"
    }
   ],
   "source": [
    "df_viagens[\"Nome do órgão superior\"]\n"
   ]
  },
  {
   "cell_type": "code",
   "execution_count": null,
   "metadata": {},
   "outputs": [],
   "source": [
    "df_viagens[\"Valor diárias\"]"
   ]
  },
  {
   "cell_type": "code",
   "execution_count": null,
   "metadata": {},
   "outputs": [],
   "source": [
    "##para mostrar dois elementos , como valor da diaria e nome do orgao voce cria uma lista com esses dois elementos \n",
    "\n",
    "colunas = [\"Nome do órgão superior\",\"Valor diárias\"]\n",
    "df_viagens[colunas]\n"
   ]
  },
  {
   "cell_type": "code",
   "execution_count": null,
   "metadata": {},
   "outputs": [],
   "source": [
    "##Usando metodo upper para botar as letras para maiusculo e usando o replace para abreviar para MIN\n",
    "\n",
    "df_viagens[\"Nome do órgão superior\"].str.upper().str.replace(\"MINISTÉRIO\", \"MIN.\")\n"
   ]
  },
  {
   "cell_type": "code",
   "execution_count": null,
   "metadata": {},
   "outputs": [],
   "source": [
    "df_viagens[[\"Valor diárias\", \"Valor passagens\"]]"
   ]
  },
  {
   "cell_type": "code",
   "execution_count": 59,
   "metadata": {},
   "outputs": [],
   "source": [
    "##mudando o tipo de str para float\n",
    "\n",
    "df_viagens['Valor diárias'] = df_viagens['Valor diárias']\n"
   ]
  },
  {
   "cell_type": "code",
   "execution_count": null,
   "metadata": {},
   "outputs": [],
   "source": [
    "df_viagens[\"Valor diárias\"]"
   ]
  },
  {
   "cell_type": "code",
   "execution_count": 61,
   "metadata": {},
   "outputs": [],
   "source": [
    "df_viagens['Valor outros gastos'] = df_viagens['Valor outros gastos']\n",
    "df_viagens['Valor passagens'] = df_viagens['Valor passagens']\n",
    "df_viagens[\"Valor devolução\"] = df_viagens['Valor devolução']"
   ]
  },
  {
   "cell_type": "code",
   "execution_count": null,
   "metadata": {},
   "outputs": [],
   "source": [
    "df_viagens.info()"
   ]
  },
  {
   "cell_type": "code",
   "execution_count": null,
   "metadata": {},
   "outputs": [],
   "source": [
    "df_viagens['Valor diárias'] + df_viagens['Valor passagens']\n",
    "\n",
    "\n"
   ]
  },
  {
   "cell_type": "code",
   "execution_count": 64,
   "metadata": {},
   "outputs": [],
   "source": [
    "df_viagens[\"Despesas\"] = df_viagens[\"Valor diárias\"] + df_viagens[\"Valor passagens\"] + df_viagens[\"Valor outros gastos\"]"
   ]
  },
  {
   "cell_type": "code",
   "execution_count": null,
   "metadata": {},
   "outputs": [],
   "source": [
    "df_viagens"
   ]
  },
  {
   "cell_type": "code",
   "execution_count": null,
   "metadata": {},
   "outputs": [],
   "source": [
    "pd.set_option('display.float_format','{:.2f}'.format)\n",
    "(df_viagens[\"Cargo\"].value_counts(normalize=True)*100).rename(\"Proporção de Viagens\").reset_index()"
   ]
  },
  {
   "cell_type": "code",
   "execution_count": null,
   "metadata": {},
   "outputs": [],
   "source": [
    "##depesas por agrumento de Cargo \n",
    "pd.set_option('display.float_format','{:.2f}'.format)\n",
    "df_viagens.groupby(\"Cargo\")[\"Despesas\"].sum().reset_index().sort_values(by=\"Despesas\",ascending=False)"
   ]
  },
  {
   "cell_type": "code",
   "execution_count": 68,
   "metadata": {},
   "outputs": [],
   "source": [
    "viagens_por_cargo = (df_viagens[\"Cargo\"].value_counts(normalize=True)*100).rename(\"Proporção de Viagens\").reset_index()"
   ]
  },
  {
   "cell_type": "code",
   "execution_count": 69,
   "metadata": {},
   "outputs": [],
   "source": [
    "filtro_mais_de_1_pct = viagens_por_cargo[\"Proporção de Viagens\"] > 1 "
   ]
  },
  {
   "cell_type": "code",
   "execution_count": null,
   "metadata": {},
   "outputs": [],
   "source": [
    "viagens_por_cargo"
   ]
  },
  {
   "cell_type": "code",
   "execution_count": null,
   "metadata": {},
   "outputs": [],
   "source": [
    "viagens_por_cargo[filtro_mais_de_1_pct]"
   ]
  },
  {
   "cell_type": "code",
   "execution_count": 72,
   "metadata": {},
   "outputs": [],
   "source": [
    "gasto_totais_por_cargo = df_viagens.groupby(\"Cargo\")[\"Despesas\"].sum().reset_index()"
   ]
  },
  {
   "cell_type": "code",
   "execution_count": null,
   "metadata": {},
   "outputs": [],
   "source": [
    "gasto_totais_por_cargo[gasto_totais_por_cargo['Despesas']> 10_000_000]"
   ]
  },
  {
   "cell_type": "code",
   "execution_count": null,
   "metadata": {},
   "outputs": [],
   "source": [
    "df_viagens['Cargo'] = df_viagens['Cargo'].fillna(\"NÃO IDENTIFICADO\")\n",
    "df_viagens"
   ]
  },
  {
   "cell_type": "code",
   "execution_count": 75,
   "metadata": {},
   "outputs": [
    {
     "data": {
      "text/plain": [
       "0        2023-12-02\n",
       "1        2024-02-28\n",
       "2        2023-01-29\n",
       "3        2023-02-10\n",
       "4        2023-07-07\n",
       "            ...    \n",
       "826984   2023-12-06\n",
       "826985   2023-12-13\n",
       "826986   2023-12-08\n",
       "826987   2023-12-11\n",
       "826988   2023-12-18\n",
       "Name: Período - Data de fim, Length: 826989, dtype: datetime64[ns]"
      ]
     },
     "execution_count": 75,
     "metadata": {},
     "output_type": "execute_result"
    }
   ],
   "source": [
    "pd.to_datetime(df_viagens[\"Período - Data de início\"], dayfirst=True)\n",
    "pd.to_datetime(df_viagens[\"Período - Data de fim\"], dayfirst=True)\n"
   ]
  },
  {
   "cell_type": "code",
   "execution_count": 76,
   "metadata": {},
   "outputs": [],
   "source": [
    "df_viagens[\"Período - Data de início\"]  = pd.to_datetime(df_viagens[\"Período - Data de início\"], dayfirst=True)\n",
    "df_viagens[\"Período - Data de fim\"]  = pd.to_datetime(df_viagens[\"Período - Data de fim\"], dayfirst=True)"
   ]
  },
  {
   "cell_type": "code",
   "execution_count": 77,
   "metadata": {},
   "outputs": [],
   "source": [
    "df_viagens[\"Mes da viagem\"] = df_viagens[\"Período - Data de início\"].dt.month_name()"
   ]
  },
  {
   "cell_type": "code",
   "execution_count": 83,
   "metadata": {},
   "outputs": [
    {
     "data": {
      "text/plain": [
       "0         335\n",
       "1         408\n",
       "2          19\n",
       "3           5\n",
       "4         187\n",
       "         ... \n",
       "826984      1\n",
       "826985      2\n",
       "826986      1\n",
       "826987      0\n",
       "826988      3\n",
       "Length: 826989, dtype: int64"
      ]
     },
     "execution_count": 83,
     "metadata": {},
     "output_type": "execute_result"
    }
   ],
   "source": [
    "(df_viagens[\"Período - Data de fim\"] - df_viagens[\"Período - Data de início\"]).dt.days"
   ]
  },
  {
   "cell_type": "code",
   "execution_count": 84,
   "metadata": {},
   "outputs": [],
   "source": [
    "df_viagens[\"dias de viagem\"] =  (df_viagens[\"Período - Data de fim\"] - df_viagens[\"Período - Data de início\"]).dt.days"
   ]
  },
  {
   "cell_type": "code",
   "execution_count": null,
   "metadata": {},
   "outputs": [],
   "source": [
    "df_viagens"
   ]
  },
  {
   "cell_type": "code",
   "execution_count": null,
   "metadata": {},
   "outputs": [],
   "source": []
  }
 ],
 "metadata": {
  "kernelspec": {
   "display_name": "Python 3",
   "language": "python",
   "name": "python3"
  },
  "language_info": {
   "codemirror_mode": {
    "name": "ipython",
    "version": 3
   },
   "file_extension": ".py",
   "mimetype": "text/x-python",
   "name": "python",
   "nbconvert_exporter": "python",
   "pygments_lexer": "ipython3",
   "version": "3.10.12"
  }
 },
 "nbformat": 4,
 "nbformat_minor": 2
}
