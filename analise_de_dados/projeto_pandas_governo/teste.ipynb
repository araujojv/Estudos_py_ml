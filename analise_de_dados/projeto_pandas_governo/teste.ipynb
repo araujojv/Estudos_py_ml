{
 "cells": [
  {
   "cell_type": "code",
   "execution_count": null,
   "metadata": {},
   "outputs": [],
   "source": [
    "import pandas as pd \n",
    "dados_viagem = \"/home/joao/Estudos_py_ml/analise_de_dados/projeto_pandas_governo/2023_Viagem.csv\"\n",
    "\n",
    "df_viagens = pd.read_csv(dados_viagem, encoding=\"Windows-1252\", sep=\";\", decimal=\",\")\n",
    "pd.set_option('display.max_columns', None)\n",
    "\n"
   ]
  },
  {
   "cell_type": "code",
   "execution_count": null,
   "metadata": {},
   "outputs": [],
   "source": [
    "df_viagens[\"Nome do órgão superior\"]\n"
   ]
  },
  {
   "cell_type": "code",
   "execution_count": null,
   "metadata": {},
   "outputs": [],
   "source": [
    "df_viagens[\"Valor diárias\"]"
   ]
  },
  {
   "cell_type": "code",
   "execution_count": null,
   "metadata": {},
   "outputs": [],
   "source": [
    "##para mostrar dois elementos , como valor da diaria e nome do orgao voce cria uma lista com esses dois elementos \n",
    "\n",
    "colunas = [\"Nome do órgão superior\",\"Valor diárias\"]\n",
    "df_viagens[colunas]\n"
   ]
  },
  {
   "cell_type": "code",
   "execution_count": null,
   "metadata": {},
   "outputs": [],
   "source": [
    "##Usando metodo upper para botar as letras para maiusculo e usando o replace para abreviar para MIN\n",
    "\n",
    "df_viagens[\"Nome do órgão superior\"].str.upper().str.replace(\"MINISTÉRIO\", \"MIN.\")\n"
   ]
  },
  {
   "cell_type": "code",
   "execution_count": null,
   "metadata": {},
   "outputs": [],
   "source": [
    "df_viagens[[\"Valor diárias\", \"Valor passagens\"]]"
   ]
  },
  {
   "cell_type": "code",
   "execution_count": null,
   "metadata": {},
   "outputs": [],
   "source": [
    "##mudando o tipo de str para float\n",
    "\n",
    "df_viagens['Valor diárias'] = df_viagens['Valor diárias']\n"
   ]
  },
  {
   "cell_type": "code",
   "execution_count": null,
   "metadata": {},
   "outputs": [],
   "source": [
    "df_viagens[\"Valor diárias\"]"
   ]
  },
  {
   "cell_type": "code",
   "execution_count": null,
   "metadata": {},
   "outputs": [],
   "source": [
    "df_viagens['Valor outros gastos'] = df_viagens['Valor outros gastos']\n",
    "df_viagens['Valor passagens'] = df_viagens['Valor passagens']\n",
    "df_viagens[\"Valor devolução\"] = df_viagens['Valor devolução']"
   ]
  },
  {
   "cell_type": "code",
   "execution_count": null,
   "metadata": {},
   "outputs": [],
   "source": [
    "df_viagens.info()"
   ]
  },
  {
   "cell_type": "code",
   "execution_count": null,
   "metadata": {},
   "outputs": [],
   "source": [
    "df_viagens['Valor diárias'] + df_viagens['Valor passagens']\n",
    "\n",
    "\n"
   ]
  },
  {
   "cell_type": "code",
   "execution_count": null,
   "metadata": {},
   "outputs": [],
   "source": [
    "df_viagens[\"Despesas\"] = df_viagens[\"Valor diárias\"] + df_viagens[\"Valor passagens\"] + df_viagens[\"Valor outros gastos\"]"
   ]
  },
  {
   "cell_type": "code",
   "execution_count": null,
   "metadata": {},
   "outputs": [],
   "source": [
    "df_viagens"
   ]
  },
  {
   "cell_type": "code",
   "execution_count": null,
   "metadata": {},
   "outputs": [],
   "source": [
    "pd.set_option('display.float_format','{:.2f}'.format)\n",
    "(df_viagens[\"Cargo\"].value_counts(normalize=True)*100).rename(\"Proporção de Viagens\").reset_index()"
   ]
  },
  {
   "cell_type": "code",
   "execution_count": null,
   "metadata": {},
   "outputs": [],
   "source": [
    "##depesas por agrumento de Cargo \n",
    "pd.set_option('display.float_format','{:.2f}'.format)\n",
    "df_viagens.groupby(\"Cargo\")[\"Despesas\"].sum().reset_index().sort_values(by=\"Despesas\",ascending=False)"
   ]
  },
  {
   "cell_type": "code",
   "execution_count": null,
   "metadata": {},
   "outputs": [],
   "source": [
    "viagens_por_cargo = (df_viagens[\"Cargo\"].value_counts(normalize=True)*100).rename(\"Proporção de Viagens\").reset_index()"
   ]
  },
  {
   "cell_type": "code",
   "execution_count": null,
   "metadata": {},
   "outputs": [],
   "source": [
    "filtro_mais_de_1_pct = viagens_por_cargo[\"Proporção de Viagens\"] > 1 "
   ]
  },
  {
   "cell_type": "code",
   "execution_count": null,
   "metadata": {},
   "outputs": [],
   "source": [
    "viagens_por_cargo"
   ]
  },
  {
   "cell_type": "code",
   "execution_count": null,
   "metadata": {},
   "outputs": [],
   "source": [
    "viagens_por_cargo[filtro_mais_de_1_pct]"
   ]
  },
  {
   "cell_type": "code",
   "execution_count": null,
   "metadata": {},
   "outputs": [],
   "source": [
    "gasto_totais_por_cargo = df_viagens.groupby(\"Cargo\")[\"Despesas\"].sum().reset_index()"
   ]
  },
  {
   "cell_type": "code",
   "execution_count": null,
   "metadata": {},
   "outputs": [],
   "source": [
    "gasto_totais_por_cargo[gasto_totais_por_cargo['Despesas']> 10_000_000]"
   ]
  },
  {
   "cell_type": "code",
   "execution_count": null,
   "metadata": {},
   "outputs": [],
   "source": [
    "df_viagens['Cargo'] = df_viagens['Cargo'].fillna(\"NÃO IDENTIFICADO\")\n",
    "df_viagens"
   ]
  },
  {
   "cell_type": "code",
   "execution_count": null,
   "metadata": {},
   "outputs": [],
   "source": [
    "pd.to_datetime(df_viagens[\"Período - Data de início\"], dayfirst=True)\n",
    "pd.to_datetime(df_viagens[\"Período - Data de fim\"], dayfirst=True)\n"
   ]
  },
  {
   "cell_type": "code",
   "execution_count": null,
   "metadata": {},
   "outputs": [],
   "source": [
    "df_viagens[\"Período - Data de início\"]  = pd.to_datetime(df_viagens[\"Período - Data de início\"], dayfirst=True)\n",
    "df_viagens[\"Período - Data de fim\"]  = pd.to_datetime(df_viagens[\"Período - Data de fim\"], dayfirst=True)"
   ]
  },
  {
   "cell_type": "code",
   "execution_count": null,
   "metadata": {},
   "outputs": [],
   "source": [
    "df_viagens[\"Mes da viagem\"] = df_viagens[\"Período - Data de início\"].dt.month_name()"
   ]
  },
  {
   "cell_type": "code",
   "execution_count": null,
   "metadata": {},
   "outputs": [],
   "source": [
    "(df_viagens[\"Período - Data de fim\"] - df_viagens[\"Período - Data de início\"]).dt.days"
   ]
  },
  {
   "cell_type": "code",
   "execution_count": null,
   "metadata": {},
   "outputs": [],
   "source": [
    "df_viagens[\"dias de viagem\"] =  (df_viagens[\"Período - Data de fim\"] - df_viagens[\"Período - Data de início\"]).dt.days"
   ]
  },
  {
   "cell_type": "code",
   "execution_count": null,
   "metadata": {},
   "outputs": [],
   "source": [
    "df_viagens"
   ]
  },
  {
   "cell_type": "code",
   "execution_count": null,
   "metadata": {},
   "outputs": [],
   "source": [
    "(df_viagens.\n",
    " groupby(\"Cargo\")\n",
    " .agg(\n",
    "     despesa_media=(\"Despesas\",\"mean\"),\n",
    "     duracao_media=(\"dias de viagem\",\"mean\"),\n",
    "     despesas_totais=(\"Despesas\",\"sum\"),\n",
    "     destinos_mais_frequentes=(\"Destinos\", pd.Series.mode),\n",
    "     n_viagens=(\"Nome\",\"count\")\n",
    "     )\n",
    " .reset_index()\n",
    " )"
   ]
  },
  {
   "cell_type": "code",
   "execution_count": null,
   "metadata": {},
   "outputs": [],
   "source": [
    "df_cargos = df_viagens[\"Cargo\"].value_counts(normalize=True).reset_index()\n",
    "df_cargos"
   ]
  },
  {
   "cell_type": "code",
   "execution_count": null,
   "metadata": {},
   "outputs": [],
   "source": [
    "df_cargos.loc[df_cargos[\"proportion\"] > 0.01,'Cargo'] "
   ]
  },
  {
   "cell_type": "code",
   "execution_count": null,
   "metadata": {},
   "outputs": [],
   "source": [
    "df_viagens_consolidado = (\n",
    "(df_viagens.\n",
    " groupby(\"Cargo\")\n",
    " .agg(\n",
    "     despesa_media=(\"Despesas\",\"mean\"),\n",
    "     duracao_media=(\"dias de viagem\",\"mean\"),\n",
    "     despesas_totais=(\"Despesas\",\"sum\"),\n",
    "     destinos_mais_frequentes=(\"Destinos\", pd.Series.mode),\n",
    "     n_viagens=(\"Nome\",\"count\")\n",
    "     )\n",
    " .reset_index()\n",
    " )\n",
    ")"
   ]
  },
  {
   "cell_type": "code",
   "execution_count": null,
   "metadata": {},
   "outputs": [],
   "source": [
    "cargos_relevantes = df_cargos.loc[df_cargos[\"proportion\"] > 0.01]\n"
   ]
  },
  {
   "cell_type": "code",
   "execution_count": null,
   "metadata": {},
   "outputs": [],
   "source": [
    "filtro= df_viagens_consolidado[\"Cargo\"].isin(cargos_relevantes)"
   ]
  },
  {
   "cell_type": "code",
   "execution_count": 53,
   "metadata": {},
   "outputs": [
    {
     "data": {
      "text/html": [
       "<div>\n",
       "<style scoped>\n",
       "    .dataframe tbody tr th:only-of-type {\n",
       "        vertical-align: middle;\n",
       "    }\n",
       "\n",
       "    .dataframe tbody tr th {\n",
       "        vertical-align: top;\n",
       "    }\n",
       "\n",
       "    .dataframe thead th {\n",
       "        text-align: right;\n",
       "    }\n",
       "</style>\n",
       "<table border=\"1\" class=\"dataframe\">\n",
       "  <thead>\n",
       "    <tr style=\"text-align: right;\">\n",
       "      <th></th>\n",
       "      <th>Cargo</th>\n",
       "      <th>despesa_media</th>\n",
       "      <th>duracao_media</th>\n",
       "      <th>despesas_totais</th>\n",
       "      <th>destino_mais_frequente</th>\n",
       "      <th>n_viagens</th>\n",
       "    </tr>\n",
       "  </thead>\n",
       "  <tbody>\n",
       "    <tr>\n",
       "      <th>494</th>\n",
       "      <td>NÃO IDENTIFICADO</td>\n",
       "      <td>3260.26</td>\n",
       "      <td>8.01</td>\n",
       "      <td>1049266194.86</td>\n",
       "      <td>Brasília/DF</td>\n",
       "      <td>321835</td>\n",
       "    </tr>\n",
       "    <tr>\n",
       "      <th>443</th>\n",
       "      <td>Informações protegidas por sigilo</td>\n",
       "      <td>3137.48</td>\n",
       "      <td>7.41</td>\n",
       "      <td>370919369.30</td>\n",
       "      <td>Informações protegidas por sigilo</td>\n",
       "      <td>118222</td>\n",
       "    </tr>\n",
       "    <tr>\n",
       "      <th>569</th>\n",
       "      <td>PROFESSOR DO MAGISTERIO SUPERIOR</td>\n",
       "      <td>2032.08</td>\n",
       "      <td>3.87</td>\n",
       "      <td>110890764.22</td>\n",
       "      <td>Brasília/DF</td>\n",
       "      <td>54570</td>\n",
       "    </tr>\n",
       "    <tr>\n",
       "      <th>570</th>\n",
       "      <td>PROFESSOR ENS BASICO TECN TECNOLOGICO</td>\n",
       "      <td>1402.20</td>\n",
       "      <td>2.34</td>\n",
       "      <td>52548741.25</td>\n",
       "      <td>Brasília/DF</td>\n",
       "      <td>37476</td>\n",
       "    </tr>\n",
       "    <tr>\n",
       "      <th>315</th>\n",
       "      <td>CONTRATADO LEI 8745/93 - NI</td>\n",
       "      <td>984.45</td>\n",
       "      <td>2.84</td>\n",
       "      <td>17510463.07</td>\n",
       "      <td>Bauru/SP</td>\n",
       "      <td>17787</td>\n",
       "    </tr>\n",
       "    <tr>\n",
       "      <th>208</th>\n",
       "      <td>AUDITOR FISCAL FEDERAL AGROPECUARIO</td>\n",
       "      <td>1465.85</td>\n",
       "      <td>2.06</td>\n",
       "      <td>24306782.30</td>\n",
       "      <td>Brasília/DF</td>\n",
       "      <td>16582</td>\n",
       "    </tr>\n",
       "    <tr>\n",
       "      <th>72</th>\n",
       "      <td>ANALISTA AMBIENTAL</td>\n",
       "      <td>2596.94</td>\n",
       "      <td>5.13</td>\n",
       "      <td>35344371.79</td>\n",
       "      <td>Brasília/DF</td>\n",
       "      <td>13610</td>\n",
       "    </tr>\n",
       "    <tr>\n",
       "      <th>179</th>\n",
       "      <td>ASSISTENTE EM ADMINISTRAçãO</td>\n",
       "      <td>1291.03</td>\n",
       "      <td>2.17</td>\n",
       "      <td>15094703.63</td>\n",
       "      <td>Brasília/DF</td>\n",
       "      <td>11692</td>\n",
       "    </tr>\n",
       "    <tr>\n",
       "      <th>776</th>\n",
       "      <td>TECNICO INFOR GEOGRAFICAS E ESTATISTICA</td>\n",
       "      <td>1457.08</td>\n",
       "      <td>3.19</td>\n",
       "      <td>15816641.46</td>\n",
       "      <td>Brasília/DF</td>\n",
       "      <td>10855</td>\n",
       "    </tr>\n",
       "    <tr>\n",
       "      <th>686</th>\n",
       "      <td>TECNICO DO SEGURO SOCIAL</td>\n",
       "      <td>4302.48</td>\n",
       "      <td>11.37</td>\n",
       "      <td>45881679.92</td>\n",
       "      <td>Brasília/DF</td>\n",
       "      <td>10664</td>\n",
       "    </tr>\n",
       "    <tr>\n",
       "      <th>209</th>\n",
       "      <td>AUDITOR-FISCAL DA RECEITA FEDERAL BRASIL</td>\n",
       "      <td>2418.11</td>\n",
       "      <td>2.84</td>\n",
       "      <td>24405946.47</td>\n",
       "      <td>Brasília/DF</td>\n",
       "      <td>10093</td>\n",
       "    </tr>\n",
       "    <tr>\n",
       "      <th>113</th>\n",
       "      <td>ANALISTA TRIBUTARIO REC FEDERAL BRASIL</td>\n",
       "      <td>1746.79</td>\n",
       "      <td>3.06</td>\n",
       "      <td>14868670.22</td>\n",
       "      <td>Foz do Iguaçu/PR</td>\n",
       "      <td>8512</td>\n",
       "    </tr>\n",
       "  </tbody>\n",
       "</table>\n",
       "</div>"
      ],
      "text/plain": [
       "                                        Cargo  despesa_media  duracao_media  \\\n",
       "494                          NÃO IDENTIFICADO        3260.26           8.01   \n",
       "443         Informações protegidas por sigilo        3137.48           7.41   \n",
       "569          PROFESSOR DO MAGISTERIO SUPERIOR        2032.08           3.87   \n",
       "570     PROFESSOR ENS BASICO TECN TECNOLOGICO        1402.20           2.34   \n",
       "315               CONTRATADO LEI 8745/93 - NI         984.45           2.84   \n",
       "208       AUDITOR FISCAL FEDERAL AGROPECUARIO        1465.85           2.06   \n",
       "72                         ANALISTA AMBIENTAL        2596.94           5.13   \n",
       "179               ASSISTENTE EM ADMINISTRAçãO        1291.03           2.17   \n",
       "776   TECNICO INFOR GEOGRAFICAS E ESTATISTICA        1457.08           3.19   \n",
       "686                  TECNICO DO SEGURO SOCIAL        4302.48          11.37   \n",
       "209  AUDITOR-FISCAL DA RECEITA FEDERAL BRASIL        2418.11           2.84   \n",
       "113    ANALISTA TRIBUTARIO REC FEDERAL BRASIL        1746.79           3.06   \n",
       "\n",
       "     despesas_totais             destino_mais_frequente  n_viagens  \n",
       "494    1049266194.86                        Brasília/DF     321835  \n",
       "443     370919369.30  Informações protegidas por sigilo     118222  \n",
       "569     110890764.22                        Brasília/DF      54570  \n",
       "570      52548741.25                        Brasília/DF      37476  \n",
       "315      17510463.07                           Bauru/SP      17787  \n",
       "208      24306782.30                        Brasília/DF      16582  \n",
       "72       35344371.79                        Brasília/DF      13610  \n",
       "179      15094703.63                        Brasília/DF      11692  \n",
       "776      15816641.46                        Brasília/DF      10855  \n",
       "686      45881679.92                        Brasília/DF      10664  \n",
       "209      24405946.47                        Brasília/DF      10093  \n",
       "113      14868670.22                   Foz do Iguaçu/PR       8512  "
      ]
     },
     "execution_count": 53,
     "metadata": {},
     "output_type": "execute_result"
    }
   ],
   "source": [
    "# Criando tabela consolidada\n",
    "df_viagens_consolidado = (df_viagens\n",
    "    .groupby('Cargo')\n",
    "    .agg(\n",
    "        despesa_media=('Despesas', 'mean'),\n",
    "        duracao_media=('dias de viagem', 'mean'),\n",
    "        despesas_totais=('Despesas', 'sum'),\n",
    "        destino_mais_frequente=('Destinos', pd.Series.mode),\n",
    "        n_viagens=('Nome', 'count')\n",
    "    )\n",
    "    .reset_index()\n",
    "    .sort_values(by='despesas_totais', ascending=False)\n",
    ")\n",
    "\n",
    "# Filtrando tabela consolidada por cargos relevantes (> 1% das viagens)\n",
    "df_cargos = df_viagens['Cargo'].value_counts(normalize=True).reset_index()\n",
    "df_cargos.columns = ['Cargo', 'proportion']\n",
    "cargos_relevantes = df_cargos.loc[df_cargos['proportion'] > 0.01, 'Cargo']\n",
    "filtro = df_viagens_consolidado['Cargo'].isin(cargos_relevantes)\n",
    "\n",
    "# Chegando na tabela final - consolidada e filtrada!\n",
    "df_final = df_viagens_consolidado[filtro].sort_values(by='n_viagens', ascending=False)\n",
    "df_final"
   ]
  },
  {
   "cell_type": "code",
   "execution_count": 54,
   "metadata": {},
   "outputs": [],
   "source": [
    "df_final = df_final.sort_values(by=\"n_viagens\")"
   ]
  },
  {
   "cell_type": "code",
   "execution_count": 56,
   "metadata": {},
   "outputs": [
    {
     "data": {
      "text/plain": [
       "<Axes: xlabel='Cargo'>"
      ]
     },
     "execution_count": 56,
     "metadata": {},
     "output_type": "execute_result"
    },
    {
     "data": {
      "image/png": "[encoded data removed]",
      "text/plain": [
       "<Figure size 640x480 with 1 Axes>"
      ]
     },
     "metadata": {},
     "output_type": "display_data"
    }
   ],
   "source": [
    "df_final.plot(x=\"Cargo\", y=\"n_viagens\" , kind=\"bar\")"
   ]
  }
 ],
 "metadata": {
  "kernelspec": {
   "display_name": "Python 3",
   "language": "python",
   "name": "python3"
  },
  "language_info": {
   "codemirror_mode": {
    "name": "ipython",
    "version": 3
   },
   "file_extension": ".py",
   "mimetype": "text/x-python",
   "name": "python",
   "nbconvert_exporter": "python",
   "pygments_lexer": "ipython3",
   "version": "3.10.12"
  }
 },
 "nbformat": 4,
 "nbformat_minor": 2
}
